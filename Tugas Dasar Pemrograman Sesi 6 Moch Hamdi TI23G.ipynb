{
 "cells": [
  {
   "cell_type": "markdown",
   "id": "6ea1155b-34aa-4795-95e4-bad5b5465b06",
   "metadata": {},
   "source": [
    "<h1><b>DASAR PEMROGRAMAN SESI 6</b></h1>"
   ]
  },
  {
   "cell_type": "code",
   "execution_count": null,
   "id": "f03ec32f-0a36-48b0-be72-ddfb04305591",
   "metadata": {},
   "outputs": [],
   "source": [
    "Kondisi percabangan adalahh sebuah cara komputer untuk mengambil keputusan, jika terdapat 2 atau lebih statement\n",
    "\n",
    "sintaks\n",
    "    1. jika tedapat 1 kondisi    \n",
    "        if kondisi :\n",
    "        <tab>statement 1"
   ]
  },
  {
   "cell_type": "code",
   "execution_count": 8,
   "id": "d314cea3-e6ee-4ed9-9125-02e5e248cce6",
   "metadata": {},
   "outputs": [
    {
     "name": "stdout",
     "output_type": "stream",
     "text": [
      "Dingin\n",
      "Hari ini sangat cerah\n"
     ]
    }
   ],
   "source": [
    "cuaca = \"Hujan\"\n",
    "if cuaca == \"Hujan\":\n",
    "    print (\"Dingin\")\n",
    "    print (\"Hari ini sangat cerah\")"
   ]
  },
  {
   "cell_type": "code",
   "execution_count": 6,
   "id": "6c680c89-903c-4d3d-af08-9bbbf6a4ad8c",
   "metadata": {},
   "outputs": [
    {
     "name": "stdout",
     "output_type": "stream",
     "text": [
      "7 adalah bilngan ganjil \n"
     ]
    }
   ],
   "source": [
    "# Menentukan Ganjil Genap\n",
    "nilai = 7\n",
    "sisa_bagi = nilai % 2\n",
    "if sisa_bagi ==0:\n",
    "    print (f\"{nilai} adalah bilangan genap \")\n",
    "else:\n",
    "    print (f\"{nilai} adalah bilngan ganjil \")"
   ]
  },
  {
   "cell_type": "markdown",
   "id": "20b0e4f8-e30c-4582-8ba4-c604e633ba1c",
   "metadata": {},
   "source": [
    "3. Jika terdapat kondisi lebih dari 2\n",
    "    sintaks nya:\n",
    "        if kondisi_1:\n",
    "        <tab>statement 1\n",
    "        elif"
   ]
  },
  {
   "cell_type": "code",
   "execution_count": 4,
   "id": "feaef123-248a-49c9-8e67-929063e3ec10",
   "metadata": {},
   "outputs": [
    {
     "name": "stdin",
     "output_type": "stream",
     "text": [
      " Nilai Anda  60\n"
     ]
    },
    {
     "name": "stdout",
     "output_type": "stream",
     "text": [
      "60 Nilai D\n",
      " Harus belajar lagi\n"
     ]
    }
   ],
   "source": [
    "### konversi nilai\n",
    "nilai  = int(input(\" Nilai Anda \"))\n",
    "if nilai >=0 and nilai <=100 :\n",
    "    if nilai >= 90  :\n",
    "        print (f\"{nilai} Nilai A\")\n",
    "        print (f\" WOW Hebat\")\n",
    "    elif nilai >= 80 :\n",
    "        print (f\"{nilai} Nilai B\")\n",
    "        print (f\" Bagus\")\n",
    "    elif nilai >= 70 :\n",
    "        print (f\"{nilai} Nilai C\")\n",
    "        print (f\"Cukup baik\")\n",
    "    elif nilai >= 60 :\n",
    "        print (f\"{nilai} Nilai D\")\n",
    "        print (f\" Harus belajar lagi\")\n",
    "    elif nilai >= 0 :\n",
    "        print (f\"{nilai} Nilai C\")\n",
    "        print (f\" INI MAH KETERLALUAN\")\n",
    "else :\n",
    "     print (f\"Kesalahan Input\")"
   ]
  },
  {
   "cell_type": "code",
   "execution_count": 20,
   "id": "4375d318-674d-4ef6-8e3e-30e4976ecc9f",
   "metadata": {},
   "outputs": [
    {
     "name": "stdin",
     "output_type": "stream",
     "text": [
      "Isi Username admin\n",
      "ISi Password admin\n"
     ]
    },
    {
     "name": "stdout",
     "output_type": "stream",
     "text": [
      "Selamat Datang admin\n"
     ]
    }
   ],
   "source": [
    "username = input(\"Isi Username\")\n",
    "password = input(\"ISi Password\")\n",
    "\n",
    "if username == 'admin' :\n",
    "    if password == 'admin' :\n",
    "        print (f\"Selamat Datang {username}\")\n",
    "    else :\n",
    "        print (\"Password Anda Salah\")\n",
    "else : \n",
    "    if username == 'admin\" :\n",
    "        print (\"Username Anda Salah\")\n",
    "    else :\n",
    "        print (\"Username atau Password Anda Salah\")"
   ]
  },
  {
   "cell_type": "code",
   "execution_count": 31,
   "id": "eda1d723-efd9-477d-b1f9-dd31b423e54c",
   "metadata": {},
   "outputs": [
    {
     "name": "stdin",
     "output_type": "stream",
     "text": [
      "Masukan Nama Kamu hahaha\n",
      "Masukan Umur 25\n",
      "Masukan Tempat Tinggal nevada\n",
      "Masukan Tabungan 1000000\n"
     ]
    },
    {
     "name": "stdout",
     "output_type": "stream",
     "text": [
      "hahaha dengan pangkat UnderBoss Terlihat Mecurigakan\n"
     ]
    }
   ],
   "source": [
    "nama = input(\"Masukan Nama Kamu\")\n",
    "umur = int(input(\"Masukan Umur\"))\n",
    "tempat = input(\"Masukan Tempat Tinggal\")\n",
    "tabungan = int(input(\"Masukan Tabungan\"))\n",
    "\n",
    "if umur >40 :\n",
    "    if tempat == 'nevada' or tempat =='newyork' or tempat == 'havana' :\n",
    "        if tabungan > 10000000 :\n",
    "           pangkat = 'Don' \n",
    "\n",
    "if umur >25  or  umur <39 :\n",
    "    if tempat == 'new jersey' or tempat =='manhattan' or tempat == 'nevada' :\n",
    "        if tabungan > 1000000 or tabungan <2000000 :\n",
    "           pangkat = 'UnderBoss'\n",
    "\n",
    "if umur >18  or  umur <24 :\n",
    "    if tempat == 'california' or tempat =='detroit' or tempat == 'boston' :\n",
    "        if tabungan < 1000000 :\n",
    "           pangkat = 'capo'\n",
    "\n",
    "if pangkat != \"\" :\n",
    "    print (f\"{nama} dengan pangkat {pangkat} Terlihat Mecurigakan\")\n",
    "else :\n",
    "    print (f\"{nama} Tidak mencurigakkan\")"
   ]
  }
 ],
 "metadata": {
  "kernelspec": {
   "display_name": "Python 3 (ipykernel)",
   "language": "python",
   "name": "python3"
  },
  "language_info": {
   "codemirror_mode": {
    "name": "ipython",
    "version": 3
   },
   "file_extension": ".py",
   "mimetype": "text/x-python",
   "name": "python",
   "nbconvert_exporter": "python",
   "pygments_lexer": "ipython3",
   "version": "3.11.7"
  }
 },
 "nbformat": 4,
 "nbformat_minor": 5
}
