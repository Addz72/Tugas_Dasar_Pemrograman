{
  "metadata": {
    "kernelspec": {
      "name": "python",
      "display_name": "Python (Pyodide)",
      "language": "python"
    },
    "language_info": {
      "codemirror_mode": {
        "name": "python",
        "version": 3
      },
      "file_extension": ".py",
      "mimetype": "text/x-python",
      "name": "python",
      "nbconvert_exporter": "python",
      "pygments_lexer": "ipython3",
      "version": "3.8"
    }
  },
  "nbformat_minor": 5,
  "nbformat": 4,
  "cells": [
    {
      "id": "812614a4-b22c-4131-b884-457bab5ced12",
      "cell_type": "markdown",
      "source": "<h1> My Biodata</h1>",
      "metadata": {}
    },
    {
      "id": "af101e89-2fcf-4979-9702-e7d2f6623772",
      "cell_type": "markdown",
      "source": "<h4> Membuat biodata sederhana dengan menggunakan fungsi input(), dan output variabel dengan fungsi format().</h4>",
      "metadata": {}
    },
    {
      "id": "f80dd925-1eee-4c53-adbe-efb856282498",
      "cell_type": "code",
      "source": "nama = input('Nama :')\nttl = input('Tempat, Tanggal Lahir :')\njenis_kelamin = input ('Jenis Kelamin :')\nagama = input('Agama :')\n\ngreeting = 'Hello, {} Kamu lahir di {} Dengan jenis kelamin {} dan beragama {}'.format(nama, ttl, jenis_kelamin, agama)\nprint(greeting)",
      "metadata": {
        "trusted": true
      },
      "outputs": [
        {
          "name": "stdout",
          "text": "Hello, <PyodideFuture pending cb=[WebLoop._decrement_in_progress()]> Kamu lahir di <PyodideFuture pending cb=[WebLoop._decrement_in_progress()]> Dengan jenis kelamin <PyodideFuture pending cb=[WebLoop._decrement_in_progress()]> dan beragama <PyodideFuture pending cb=[WebLoop._decrement_in_progress()]>\n",
          "output_type": "stream"
        },
        {
          "output_type": "stream",
          "name": "stdin",
          "text": "Agama : Islam\nNama : Moch Hamdi Addzikri\nTempat, Tanggal Lahir : Sukabumi, 2 Mei 2006\nJenis Kelamin : Laki-laki\n"
        }
      ],
      "execution_count": 5
    },
    {
      "id": "f2422b02-fa3c-42d3-9ac7-38254748c957",
      "cell_type": "code",
      "source": "kampus = \"UNIVERSITAS NUSA PUTRA SUKABUMI\"\nkampuss = kampus.split()\nprint(f\"{kampuss[2]} {kampuss[1]}\")\nprint(kampus[1:13]+kampus[14:18]+kampus[19:24]+kampus[25:28]+kampus[29:31])\nprint(f\"{kampuss[3]} {kampuss[2]} {kampuss[1]} {kampuss[0]}\")\nprint(f\"{kampuss[0][0]}{kampuss[1][0]}{kampuss[2][0]}{kampuss[3][0]}\") #UNPS\nprint(kampus[8:11],kampus[14:16]+kampus[17:19],kampus[27:31])",
      "metadata": {},
      "outputs": [
        {
          "name": "stdout",
          "output_type": "stream",
          "text": [
            "PUTRA NUSA\n",
            "NIVERSITAS NSA PTRA SKABMI\n",
            "SUKABUMI PUTRA NUSA UNIVERSITAS\n",
            "UNPS\n",
            "TAS SAPU BUMI\n"
          ]
        }
      ],
      "execution_count": 109
    },
    {
      "id": "9b394171-e828-4449-b544-2ee3a05bf277",
      "cell_type": "code",
      "source": "",
      "metadata": {},
      "outputs": [],
      "execution_count": null
    },
    {
      "id": "abc66fcc-d645-4d8f-895f-c09b25a5c391",
      "cell_type": "code",
      "source": "",
      "metadata": {},
      "outputs": [],
      "execution_count": null
    }
  ]
}