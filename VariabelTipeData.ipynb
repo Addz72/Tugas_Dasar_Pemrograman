{
 "cells": [
  {
   "cell_type": "markdown",
   "id": "924b0246-2fb0-42fe-b442-fb728b0b9f33",
   "metadata": {},
   "source": [
    "<h1><b> Variabel dan Tipe Data </b></h1>\n",
    "<font color=\"red\"><i><b>Tipe data pada Python adalah:</b></i></font>\n",
    "<hr>\n",
    "<ol>\n",
    "    <li>Float - (float)</li>\n",
    "    <li>String - (str)</li>\n",
    "    <li>Boolean - (bool)</li>\n",
    "    <li>Integer - (int)</li`>\n",
    "</ol>\n",
    "<hr>\n",
    "<font color=\"red\"<i><b>Aturan Penamaan Variabel</b><i></font>\n",
    "<ul>\n",
    "    <li> Tidak boleh menggunakan spasi </li>\n",
    "    <li> Bersifat Case Sensitive=> A != a </li>\n",
    "    <li> Terdiri dari huruf, angka, dan karakter _ (underscore) </li>\n",
    "    <li> Diawali Underscore atau huruf </li>\n",
    "    <li> Tidak boleh menggunakan reserved keyword </li>\n",
    " </ul>"
   ]
  },
  {
   "cell_type": "code",
   "execution_count": 11,
   "id": "e36cb8d0-b604-4dba-8709-c5cf8e08e599",
   "metadata": {},
   "outputs": [
    {
     "name": "stdout",
     "output_type": "stream",
     "text": [
      "100\n",
      "70.5\n",
      "5\n",
      "True\n"
     ]
    }
   ],
   "source": [
    "data_integer = 100\n",
    "data_float = 70.5\n",
    "data_string = \"5\"\n",
    "data_boolean = True\n",
    "\n",
    "data_string\n",
    "print (data_integer)\n",
    "print (data_float)\n",
    "print (data_string)\n",
    "print (data_boolean)"
   ]
  },
  {
   "cell_type": "code",
   "execution_count": 12,
   "id": "d6a5753e-0d4e-4497-8a70-b4a55ff6840d",
   "metadata": {},
   "outputs": [
    {
     "name": "stdout",
     "output_type": "stream",
     "text": [
      "<class 'int'>\n",
      "<class 'float'>\n",
      "<class 'str'>\n",
      "<class 'bool'>\n"
     ]
    }
   ],
   "source": [
    "print(type(data_integer))\n",
    "print(type(data_float))\n",
    "print(type(data_string))\n",
    "print(type(data_boolean))"
   ]
  },
  {
   "cell_type": "markdown",
   "id": "d3a62ed6-87b9-4a87-a534-b5a8895fbcf2",
   "metadata": {},
   "source": [
    "<h1><font><i><b>Konversi Tipe data dari Integer ke (String, Float, Boolean)</b></i></font></h1>"
   ]
  },
  {
   "cell_type": "code",
   "execution_count": 17,
   "id": "a450d085-2354-44d0-b422-192a8dbcb13f",
   "metadata": {},
   "outputs": [
    {
     "name": "stdin",
     "output_type": "stream",
     "text": [
      "isikan bilangan 1 7\n",
      "isikan bilangan 2 3\n"
     ]
    },
    {
     "name": "stdout",
     "output_type": "stream",
     "text": [
      "73\n"
     ]
    }
   ],
   "source": [
    "bil1 = input(\"isikan bilangan 1\")\n",
    "bil2 = input(\"isikan bilangan 2\")\n",
    "\n",
    "hasil = bil1 + bil2\n",
    "print(hasil)"
   ]
  },
  {
   "cell_type": "code",
   "execution_count": 41,
   "id": "9f8bbc42-afa7-400d-87a6-4b1d7c7599fa",
   "metadata": {},
   "outputs": [
    {
     "name": "stdout",
     "output_type": "stream",
     "text": [
      "5\n",
      "70\n",
      "1\n",
      "<class 'int'>\n",
      "<class 'int'>\n",
      "<class 'int'>\n",
      "to Integer\n"
     ]
    }
   ],
   "source": [
    "string_to_int = int(data_string)\n",
    "float_to_int = int(data_float)\n",
    "bool_to_int = int(data_boolean)\n",
    "\n",
    "print(string_to_int)\n",
    "print(float_to_int)\n",
    "print(bool_to_int)\n",
    "\n",
    "print(type(string_to_int))\n",
    "print(type(float_to_int))\n",
    "print(type(bool_to_int))\n",
    "print(\"to Integer\")"
   ]
  },
  {
   "cell_type": "code",
   "execution_count": 42,
   "id": "5d0c0d10-c02c-4463-8809-1ef32c295580",
   "metadata": {},
   "outputs": [
    {
     "name": "stdout",
     "output_type": "stream",
     "text": [
      "100\n",
      "70.5\n",
      "True\n",
      "<class 'str'>\n",
      "<class 'str'>\n",
      "<class 'str'>\n",
      "to String\n"
     ]
    }
   ],
   "source": [
    "int_to_string = str(data_integer)\n",
    "float_to_string = str(data_float)\n",
    "bool_to_string = str(data_boolean)\n",
    "\n",
    "print(int_to_string)\n",
    "print(float_to_string)\n",
    "print(bool_to_string)\n",
    "\n",
    "print(type(int_to_string))\n",
    "print(type(float_to_string))\n",
    "print(type(bool_to_string))\n",
    "print(\"to String\")"
   ]
  },
  {
   "cell_type": "code",
   "execution_count": 43,
   "id": "fedd83ba-fbd7-4617-85b0-62415135acde",
   "metadata": {},
   "outputs": [
    {
     "name": "stdout",
     "output_type": "stream",
     "text": [
      "100.0\n",
      "5.0\n",
      "1.0\n",
      "<class 'float'>\n",
      "<class 'float'>\n",
      "<class 'float'>\n",
      "to float\n"
     ]
    }
   ],
   "source": [
    "int_to_float = float(data_integer)\n",
    "string_to_float = float(data_string)\n",
    "bool_to_float = float(data_boolean)\n",
    "\n",
    "print(int_to_float)\n",
    "print(string_to_float)\n",
    "print(bool_to_float)\n",
    "\n",
    "print(type(int_to_float))\n",
    "print(type(string_to_float))\n",
    "print(type(bool_to_float))\n",
    "print(\"to float\")"
   ]
  },
  {
   "cell_type": "code",
   "execution_count": 39,
   "id": "86e93506-ca46-4bce-8f66-db2dddc1be1d",
   "metadata": {},
   "outputs": [
    {
     "name": "stdout",
     "output_type": "stream",
     "text": [
      "True\n",
      "True\n",
      "True\n",
      "<class 'bool'>\n",
      "<class 'bool'>\n",
      "<class 'bool'>\n",
      "to boolean \n"
     ]
    }
   ],
   "source": [
    "int_to_bool = bool(data_integer)\n",
    "string_to_bool = bool(data_string)\n",
    "float_to_bool = bool(data_float)\n",
    "\n",
    "print(int_to_bool)\n",
    "print(string_to_bool)\n",
    "print(float_to_bool)\n",
    "\n",
    "print(type(int_to_bool))\n",
    "print(type(string_to_bool))\n",
    "print(type(float_to_bool))\n",
    "print(\"to boolean \")"
   ]
  },
  {
   "cell_type": "code",
   "execution_count": null,
   "id": "99d1adfa-c9a3-49d6-ad48-8eea60215b3c",
   "metadata": {},
   "outputs": [],
   "source": []
  }
 ],
 "metadata": {
  "kernelspec": {
   "display_name": "Python 3 (ipykernel)",
   "language": "python",
   "name": "python3"
  },
  "language_info": {
   "codemirror_mode": {
    "name": "ipython",
    "version": 3
   },
   "file_extension": ".py",
   "mimetype": "text/x-python",
   "name": "python",
   "nbconvert_exporter": "python",
   "pygments_lexer": "ipython3",
   "version": "3.11.7"
  }
 },
 "nbformat": 4,
 "nbformat_minor": 5
}
