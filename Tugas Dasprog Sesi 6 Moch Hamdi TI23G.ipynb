{
  "metadata": {
    "kernelspec": {
      "name": "python",
      "display_name": "Python (Pyodide)",
      "language": "python"
    },
    "language_info": {
      "codemirror_mode": {
        "name": "python",
        "version": 3
      },
      "file_extension": ".py",
      "mimetype": "text/x-python",
      "name": "python",
      "nbconvert_exporter": "python",
      "pygments_lexer": "ipython3",
      "version": "3.8"
    }
  },
  "nbformat_minor": 5,
  "nbformat": 4,
  "cells": [
    {
      "id": "4afaf739-2fc0-4c8b-96bb-2823d53190a1",
      "cell_type": "code",
      "source": "",
      "metadata": {},
      "outputs": [],
      "execution_count": null
    },
    {
      "id": "0bccf10c-423a-4b4c-b530-33ef1bb0a1c3",
      "cell_type": "code",
      "source": "nilai1 = int(input('Masukan nilai coding anda :'))\nnilai2 = input('Masukan nilai interview anda :')\n\nif nilai1 >= 80:\n    hasil_tes1 = 'LOLOS'\nelif nilai1 >= 60 :\n    hasil_tes1 = 'DIPERTIMBANGKAN'\nelse:\n    hasil_tes1 = 'TIDAK LOLOS'\n\nif nilai2 == 'A' or nilai2 == 'B':\n    hasil_tes2 = 'LOLOS'\nelse:\n    hasil_tes2 = 'TIDAK LOLOS'\n\nif hasil_tes1 == 'LOLOS' and hasil_tes2 == 'LOLOS':\n    print('Selamat Kamu Berhasil Menjadi Calon Programmer')\nelif hasil_tes1 =='DIPERTIMBANGKAN' and hasil_tes2 == 'LOLOS':\n    print('Selamat Kamu Berhasil Menjadi Calon Programmer')\nelse:\n    print(\"Maaf Kamu Belum Berhasil Menjadi Calon Programmer\")\n",
      "metadata": {
        "trusted": true
      },
      "outputs": [],
      "execution_count": null
    },
    {
      "id": "963185fa-d031-4fe1-bca3-7eace34a757c",
      "cell_type": "code",
      "source": "nomor_punggung = int(input(\"Masukkan nomor punggung pemain: \"))\n\nif nomor_punggung % 2 == 0:\n    if nomor_punggung > 50 and nomor_punggung <= 100:\n        print(\"Nomor punggung\", nomor_punggung, \"dapat digunakan untuk posisi 'capten team'\")\n    else:\n        print(\"Nomor punggung\", nomor_punggung, \"dapat digunakan untuk posisi 'target attacker'\")\nelse:\n    if nomor_punggung > 90:\n        print(\"Nomor punggung\", nomor_punggung, \"dapat digunakan untuk posisi 'Playmaker'\")\n    elif nomor_punggung % 3 == 0 or nomor_punggung % 5 == 0:\n        print(\"Nomor punggung\", nomor_punggung, \"dapat digunakan untuk posisi 'keeper'\")\n    else:\n        print(\"Nomor punggung\", nomor_punggung, \"dapat digunakan untuk posisi 'defender'\")",
      "metadata": {
        "trusted": true
      },
      "outputs": [],
      "execution_count": null
    },
    {
      "id": "06d794b7-60e7-4836-95b9-d1861a3902fe",
      "cell_type": "code",
      "source": "",
      "metadata": {},
      "outputs": [],
      "execution_count": null
    },
    {
      "id": "c7537a47-bff3-4838-a094-2bd10ab0ca41",
      "cell_type": "code",
      "source": "",
      "metadata": {
        "trusted": true
      },
      "outputs": [],
      "execution_count": null
    }
  ]
}